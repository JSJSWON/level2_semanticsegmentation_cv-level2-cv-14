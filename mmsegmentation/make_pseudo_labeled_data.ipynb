{
 "cells": [
  {
   "cell_type": "code",
   "execution_count": 7,
   "metadata": {},
   "outputs": [],
   "source": [
    "import os\n",
    "import os.path as osp\n",
    "import shutil\n",
    "import numpy as np\n",
    "import torch\n",
    "import tqdm\n",
    "import pickle\n",
    "import cv2\n",
    "import matplotlib.pyplot as plt"
   ]
  },
  {
   "cell_type": "code",
   "execution_count": 8,
   "metadata": {},
   "outputs": [],
   "source": [
    "# argparse\n",
    "cnt = 1\n",
    "config = '/opt/ml/input/code/mmsegmentation/exp/upernet_convnext_xlarge_fp16_640x640_160k_ade20k.py'\n",
    "teacher_checkpoint = '/opt/ml/input/code/mmsegmentation/work_dirs/upernet_convnext_xlarge_fp16_640x640_160k_ade20k/epoch_60.pth'"
   ]
  },
  {
   "cell_type": "code",
   "execution_count": 9,
   "metadata": {},
   "outputs": [],
   "source": [
    "# temp out_path\n",
    "out_path = osp.join('/'.join(teacher_checkpoint.split('/')[:-1]), 'out.pickle')"
   ]
  },
  {
   "cell_type": "code",
   "execution_count": 10,
   "metadata": {},
   "outputs": [],
   "source": [
    "# 폴더 생성하기\n",
    "src_dir = '/opt/ml/input/data/data_new'\n",
    "dst_dir = f'/opt/ml/input/data/pseudo_labeled_{cnt}'\n",
    "if not osp.exists(dst_dir):\n",
    "    os.mkdir(dst_dir)\n",
    "    os.mkdir(dst_dir + '/images')\n",
    "    os.mkdir(dst_dir + '/images/train')\n",
    "    os.mkdir(dst_dir + '/images/val')\n",
    "    os.mkdir(dst_dir + '/images/test')\n",
    "    os.mkdir(dst_dir + '/annotations')\n",
    "    os.mkdir(dst_dir + '/annotations/train')\n",
    "    os.mkdir(dst_dir + '/annotations/val')"
   ]
  },
  {
   "cell_type": "code",
   "execution_count": 11,
   "metadata": {},
   "outputs": [
    {
     "name": "stderr",
     "output_type": "stream",
     "text": [
      "100%|██████████| 2617/2617 [00:00<00:00, 5454.43it/s]\n",
      "100%|██████████| 655/655 [00:00<00:00, 5443.53it/s]\n",
      "100%|██████████| 819/819 [00:00<00:00, 5641.82it/s]\n"
     ]
    }
   ],
   "source": [
    "# data 복사\n",
    "## train\n",
    "filenames = os.listdir(osp.join(src_dir, \"images\", \"train\"))\n",
    "for file in tqdm.tqdm(filenames):\n",
    "    src = osp.join(src_dir, \"images\", \"train\", file)\n",
    "    dst = osp.join(dst_dir, \"images\", \"train\", file)\n",
    "    shutil.copy(src, dst)\n",
    "## valid\n",
    "filenames = os.listdir(osp.join(src_dir, \"images\", \"val\"))\n",
    "for file in tqdm.tqdm(filenames):\n",
    "    src = osp.join(src_dir, \"images\", \"val\", file) \n",
    "    dst = osp.join(dst_dir, \"images\", \"val\", file) # validation set도 training에 포함시키려면 해당 부분 \"train\"으로 수정해야함\n",
    "    shutil.copy(src, dst)\n",
    "## test\n",
    "filenames = os.listdir(osp.join(src_dir, \"images\", \"test\"))\n",
    "for file in tqdm.tqdm(filenames):\n",
    "    src = osp.join(src_dir, \"images\", \"test\", file) \n",
    "    dst = osp.join(dst_dir, \"images\", \"train\", file)\n",
    "    shutil.copy(src, dst)"
   ]
  },
  {
   "cell_type": "code",
   "execution_count": 12,
   "metadata": {},
   "outputs": [
    {
     "name": "stderr",
     "output_type": "stream",
     "text": [
      "100%|██████████| 819/819 [00:00<00:00, 4967.18it/s]\n"
     ]
    }
   ],
   "source": [
    "# test data 복사\n",
    "filenames = os.listdir(osp.join(src_dir, \"images\", \"test\"))\n",
    "for file in tqdm.tqdm(filenames):\n",
    "    src = osp.join(src_dir, \"images\", \"test\", file) \n",
    "    dst = osp.join(dst_dir, \"images\", \"test\", file)\n",
    "    shutil.copy(src, dst)"
   ]
  },
  {
   "cell_type": "code",
   "execution_count": 13,
   "metadata": {},
   "outputs": [
    {
     "name": "stderr",
     "output_type": "stream",
     "text": [
      "100%|██████████| 2617/2617 [00:00<00:00, 10035.02it/s]\n",
      "100%|██████████| 655/655 [00:00<00:00, 10236.30it/s]\n"
     ]
    }
   ],
   "source": [
    "# annotation 복사\n",
    "## train\n",
    "filenames = os.listdir(osp.join(src_dir, \"annotations\", \"train\"))\n",
    "for file in tqdm.tqdm(filenames):\n",
    "    src = osp.join(src_dir, \"annotations\", \"train\", file)\n",
    "    dst = osp.join(dst_dir, \"annotations\", \"train\", file)\n",
    "    shutil.copy(src, dst)\n",
    "## val\n",
    "filenames = os.listdir(osp.join(src_dir, \"annotations\", \"val\"))\n",
    "for file in tqdm.tqdm(filenames):\n",
    "    src = osp.join(src_dir, \"annotations\", \"val\", file)\n",
    "    dst = osp.join(dst_dir, \"annotations\", \"val\", file) # validation set도 training에 포함시키려면 해당 부분 \"train\"으로 수정해야함\n",
    "    shutil.copy(src, dst)"
   ]
  },
  {
   "cell_type": "code",
   "execution_count": 14,
   "metadata": {},
   "outputs": [],
   "source": [
    "dst = osp.join(dst_dir, \"annotations\", \"train\")"
   ]
  },
  {
   "cell_type": "code",
   "execution_count": 16,
   "metadata": {},
   "outputs": [
    {
     "name": "stderr",
     "output_type": "stream",
     "text": [
      "/opt/conda/lib/python3.8/site-packages/mmcv/__init__.py:20: UserWarning: On January 1, 2023, MMCV will release v2.0.0, in which it will remove components related to the training process and add a data transformation module. In addition, it will rename the package names mmcv to mmcv-lite and mmcv-full to mmcv. See https://github.com/open-mmlab/mmcv/blob/master/docs/en/compatibility.md for more details.\n",
      "  warnings.warn(\n",
      "2023-01-03 04:45:54,748 - mmseg - INFO - Loaded 819 images\n",
      "/opt/ml/input/code/mmsegmentation/mmseg/models/losses/cross_entropy_loss.py:235: UserWarning: Default ``avg_non_ignore`` is False, if you would like to ignore the certain label and average loss over non-ignore labels, which is the same with PyTorch official cross_entropy, set ``avg_non_ignore=True``.\n",
      "  warnings.warn(\n"
     ]
    },
    {
     "name": "stdout",
     "output_type": "stream",
     "text": [
      "load checkpoint from local path: /opt/ml/input/code/mmsegmentation/work_dirs/upernet_convnext_xlarge_fp16_640x640_160k_ade20k/epoch_60.pth\n",
      "[>>>>>>>>>>>>>>>>>>>>>>>>>>>>] 819/819, 0.2 task/s, elapsed: 3365s, ETA:     0s"
     ]
    },
    {
     "data": {
      "text/plain": [
       "0"
      ]
     },
     "execution_count": 16,
     "metadata": {},
     "output_type": "execute_result"
    }
   ],
   "source": [
    "# test annotation 생성\n",
    "os.system(f'python /opt/ml/input/code/mmsegmentation/tools/model_ensemble.py --config {config} --checkpoint {teacher_checkpoint} --aug-test --out {dst} --gpus 0')"
   ]
  },
  {
   "cell_type": "code",
   "execution_count": 17,
   "metadata": {},
   "outputs": [
    {
     "name": "stdout",
     "output_type": "stream",
     "text": [
      "mmsegmentation의 dataset config 경로를 변경 해주세요!\n"
     ]
    }
   ],
   "source": [
    "print(\"mmsegmentation의 dataset config 경로를 변경 해주세요!\")"
   ]
  },
  {
   "cell_type": "code",
   "execution_count": null,
   "metadata": {},
   "outputs": [],
   "source": []
  }
 ],
 "metadata": {
  "kernelspec": {
   "display_name": "base",
   "language": "python",
   "name": "python3"
  },
  "language_info": {
   "codemirror_mode": {
    "name": "ipython",
    "version": 3
   },
   "file_extension": ".py",
   "mimetype": "text/x-python",
   "name": "python",
   "nbconvert_exporter": "python",
   "pygments_lexer": "ipython3",
   "version": "3.8.15"
  },
  "orig_nbformat": 4,
  "vscode": {
   "interpreter": {
    "hash": "d4d1e4263499bec80672ea0156c357c1ee493ec2b1c70f0acce89fc37c4a6abe"
   }
  }
 },
 "nbformat": 4,
 "nbformat_minor": 2
}
