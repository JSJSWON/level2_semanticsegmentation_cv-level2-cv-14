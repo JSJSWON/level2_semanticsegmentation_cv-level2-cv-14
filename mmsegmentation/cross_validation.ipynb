{
 "cells": [
  {
   "cell_type": "code",
   "execution_count": 1,
   "metadata": {},
   "outputs": [
    {
     "name": "stdout",
     "output_type": "stream",
     "text": [
      "Collecting scikit-learn\n",
      "  Downloading scikit_learn-1.2.0-cp38-cp38-manylinux_2_17_x86_64.manylinux2014_x86_64.whl (9.7 MB)\n",
      "\u001b[K     |████████████████████████████████| 9.7 MB 21.0 MB/s eta 0:00:01\n",
      "\u001b[?25hRequirement already satisfied: scipy>=1.3.2 in /opt/conda/lib/python3.8/site-packages (from scikit-learn) (1.7.3)\n",
      "Collecting threadpoolctl>=2.0.0\n",
      "  Downloading threadpoolctl-3.1.0-py3-none-any.whl (14 kB)\n",
      "Requirement already satisfied: numpy>=1.17.3 in /opt/conda/lib/python3.8/site-packages (from scikit-learn) (1.19.2)\n",
      "Collecting joblib>=1.1.1\n",
      "  Downloading joblib-1.2.0-py3-none-any.whl (297 kB)\n",
      "\u001b[K     |████████████████████████████████| 297 kB 68.9 MB/s eta 0:00:01\n",
      "\u001b[?25hInstalling collected packages: threadpoolctl, joblib, scikit-learn\n",
      "Successfully installed joblib-1.2.0 scikit-learn-1.2.0 threadpoolctl-3.1.0\n"
     ]
    }
   ],
   "source": [
    "!pip install scikit-learn"
   ]
  },
  {
   "cell_type": "code",
   "execution_count": 17,
   "metadata": {},
   "outputs": [],
   "source": [
    "import json\n",
    "import os\n",
    "import shutil\n",
    "import numpy as np\n",
    "import pandas as pd\n",
    "from pycocotools.coco import COCO\n",
    "import matplotlib.pyplot as plt\n",
    "import seaborn as sns; sns.set()\n",
    "import cv2\n",
    "\n",
    "from sklearn.model_selection import KFold"
   ]
  },
  {
   "attachments": {},
   "cell_type": "markdown",
   "metadata": {},
   "source": [
    "# json file 만들기"
   ]
  },
  {
   "cell_type": "code",
   "execution_count": 31,
   "metadata": {},
   "outputs": [],
   "source": [
    "def kfold(file_path, n_splits, random_state):\n",
    "    with open(file_path, 'r') as f:\n",
    "        dataset = json.loads(f.read())\n",
    "\n",
    "    imgs = dataset['images']\n",
    "    annos = dataset['annotations']\n",
    "\n",
    "    ids = list(set([x['image_id'] for x in dataset['annotations']]))\n",
    "    kf = KFold(n_splits=n_splits, shuffle=True, random_state=random_state)\n",
    "    # a = kf.get_n_splits(ids)\n",
    "    # print(a)\n",
    "    for i, (train_index, val_index) in enumerate(kf.split(ids)):\n",
    "        info = dataset['info']\n",
    "        licenses = dataset['licenses']\n",
    "        train_images = []\n",
    "        val_images = []\n",
    "        categories = dataset['categories']\n",
    "        train_annotations = []\n",
    "        val_annotations = []\n",
    "\n",
    "        for j in range(len(imgs)):\n",
    "            if imgs[j]['id'] in train_index:\n",
    "                train_images.append(imgs[j])\n",
    "            else:\n",
    "                val_images.append(imgs[j])\n",
    "        \n",
    "        for j in range(len(annos)):\n",
    "            if annos[j]['image_id'] in train_index:\n",
    "                train_annotations.append(annos[j])\n",
    "            else:\n",
    "                val_annotations.append(annos[j])\n",
    "        \n",
    "        train = dict()\n",
    "        train['info'] = info\n",
    "        train['licenses'] = licenses\n",
    "        train['images'] = train_images\n",
    "        train['categories'] = categories\n",
    "        train['annotations'] = train_annotations\n",
    "        val = dict()\n",
    "        val['info'] = info\n",
    "        val['licenses'] = licenses\n",
    "        val['images'] = val_images\n",
    "        val['categories'] = categories\n",
    "        val['annotations'] = val_annotations\n",
    "        \n",
    "        if not os.path.isdir(f'/opt/ml/input/data/{n_splits}folds_seed{random_state}'):\n",
    "            os.mkdir(f'/opt/ml/input/data/{n_splits}folds_seed{random_state}')\n",
    "\n",
    "        if not os.path.isdir(f'/opt/ml/input/data/{n_splits}folds_seed{random_state}/fold{i}'):\n",
    "            os.mkdir(f'/opt/ml/input/data/{n_splits}folds_seed{random_state}/fold{i}')\n",
    "\n",
    "        if not os.path.isdir(f'/opt/ml/input/data/{n_splits}folds_seed{random_state}/fold{i}/annotations'):\n",
    "            os.mkdir(f'/opt/ml/input/data/{n_splits}folds_seed{random_state}/fold{i}/annotations')\n",
    "        if not os.path.isdir(f'/opt/ml/input/data/{n_splits}folds_seed{random_state}/fold{i}/annotations/train'):\n",
    "            os.mkdir(f'/opt/ml/input/data/{n_splits}folds_seed{random_state}/fold{i}/annotations/train')\n",
    "        if not os.path.isdir(f'/opt/ml/input/data/{n_splits}folds_seed{random_state}/fold{i}/annotations/val'):\n",
    "            os.mkdir(f'/opt/ml/input/data/{n_splits}folds_seed{random_state}/fold{i}/annotations/val')\n",
    "\n",
    "        if not os.path.isdir(f'/opt/ml/input/data/{n_splits}folds_seed{random_state}/fold{i}/images'):\n",
    "            os.mkdir(f'/opt/ml/input/data/{n_splits}folds_seed{random_state}/fold{i}/images')\n",
    "        if not os.path.isdir(f'/opt/ml/input/data/{n_splits}folds_seed{random_state}/fold{i}/images/train'):\n",
    "            os.mkdir(f'/opt/ml/input/data/{n_splits}folds_seed{random_state}/fold{i}/images/train')\n",
    "        if not os.path.isdir(f'/opt/ml/input/data/{n_splits}folds_seed{random_state}/fold{i}/images/val'):\n",
    "            os.mkdir(f'/opt/ml/input/data/{n_splits}folds_seed{random_state}/fold{i}/images/val')\n",
    "\n",
    "        with open(f'/opt/ml/input/data/{n_splits}folds_seed{random_state}/train_fold{i}.json', 'w') as f:\n",
    "            json.dump(train, f, indent=4)\n",
    "        with open(f'/opt/ml/input/data/{n_splits}folds_seed{random_state}/val_fold{i}.json', 'w') as f:\n",
    "            json.dump(val, f, indent=4)\n",
    "\n"
   ]
  },
  {
   "cell_type": "code",
   "execution_count": 32,
   "metadata": {},
   "outputs": [],
   "source": [
    "file_path = '/opt/ml/input/data/train_all.json'\n",
    "n_splits = 5\n",
    "random_state = 42\n",
    "kfold(file_path, n_splits, random_state)"
   ]
  },
  {
   "attachments": {},
   "cell_type": "markdown",
   "metadata": {},
   "source": [
    "# image data, json 옮기기"
   ]
  },
  {
   "cell_type": "code",
   "execution_count": 33,
   "metadata": {},
   "outputs": [],
   "source": [
    "path = '/opt/ml/input/data/5folds_seed42/'\n",
    "for i in range(n_splits):\n",
    "    fold = f'fold{i}'\n",
    "\n",
    "    shutil.copytree('/opt/ml/input/data/batch_01_vt', path+fold + '/data/batch_01_vt')\n",
    "    shutil.copytree('/opt/ml/input/data/batch_02_vt', path+fold + '/data/batch_02_vt')\n",
    "    shutil.copytree('/opt/ml/input/data/batch_03', path+fold + '/data/batch_03')\n",
    "    \n",
    "    with open(f'/opt/ml/input/data/5folds_seed42/train_fold{i}.json') as f:\n",
    "        train = json.load(f)\n",
    "    with open(f'/opt/ml/input/data/5folds_seed42/val_fold{i}.json') as f:\n",
    "        val = json.load(f)\n",
    "\n",
    "    trainset, valset = [], []\n",
    "    for x in train['images']:\n",
    "        file_name = x['file_name']\n",
    "        trainset.append(file_name)\n",
    "    for x in val['images']:\n",
    "        file_name = x['file_name']\n",
    "        valset.append(file_name)\n",
    "    \n",
    "    dir_path = f'/opt/ml/input/data/5folds_seed42/fold{i}/data/batch_01_vt/'\n",
    "    for x in os.listdir(dir_path):\n",
    "        if 'batch_01_vt/' + x in trainset:\n",
    "            os.rename(dir_path+x, f'/opt/ml/input/data/5folds_seed42/fold{i}/images/train'+'/train_1' + x)\n",
    "    dir_path = f'/opt/ml/input/data/5folds_seed42/fold{i}/data/batch_02_vt/'\n",
    "    for x in os.listdir(dir_path):\n",
    "        if 'batch_02_vt/' + x in trainset:\n",
    "            os.rename(dir_path+x, f'/opt/ml/input/data/5folds_seed42/fold{i}/images/train'+'/train_2' + x)\n",
    "    dir_path = f'/opt/ml/input/data/5folds_seed42/fold{i}/data/batch_03/'\n",
    "    for x in os.listdir(dir_path):\n",
    "        if 'batch_03/' + x in trainset:\n",
    "            os.rename(dir_path+x, f'/opt/ml/input/data/5folds_seed42/fold{i}/images/train'+'/train_3' + x)\n",
    "\n",
    "    dir_path = f'/opt/ml/input/data/5folds_seed42/fold{i}/data/batch_01_vt/'\n",
    "    for x in os.listdir(dir_path):\n",
    "        if 'batch_01_vt/' + x in valset:\n",
    "            os.rename(dir_path+x, f'/opt/ml/input/data/5folds_seed42/fold{i}/images/val'+'/val_1' + x)\n",
    "    dir_path = f'/opt/ml/input/data/5folds_seed42/fold{i}/data/batch_02_vt/'\n",
    "    for x in os.listdir(dir_path):\n",
    "        if 'batch_02_vt/' + x in valset:\n",
    "            os.rename(dir_path+x, f'/opt/ml/input/data/5folds_seed42/fold{i}/images/val'+'/val_2' + x)\n",
    "    dir_path = f'/opt/ml/input/data/5folds_seed42/fold{i}/data/batch_03/'\n",
    "    for x in os.listdir(dir_path):\n",
    "        if 'batch_03/' + x in valset:\n",
    "            os.rename(dir_path+x, f'/opt/ml/input/data/5folds_seed42/fold{i}/images/val'+'/val_3' + x)\n",
    "    \n",
    "    shutil.rmtree(f'/opt/ml/input/data/5folds_seed42/fold{i}/data')\n",
    "\n",
    "    for x in train['images']:\n",
    "        if 'batch_01' in x['file_name']:\n",
    "            x['file_name'] = 'train/train_1' + x['file_name'][-8:]\n",
    "        elif 'batch_02' in x['file_name']:\n",
    "            x['file_name'] = 'train/train_2' + x['file_name'][-8:]\n",
    "        else:\n",
    "            x['file_name'] = 'train/train_3' + x['file_name'][-8:]\n",
    "    for x in val['images']:\n",
    "        if 'batch_01' in x['file_name']:\n",
    "            x['file_name'] = 'val/val_1' + x['file_name'][-8:]\n",
    "        elif 'batch_02' in x['file_name']:\n",
    "            x['file_name'] = 'val/val_2' + x['file_name'][-8:]\n",
    "        else:\n",
    "            x['file_name'] = 'val/val_3' + x['file_name'][-8:]\n",
    "    \n",
    "    with open(f'/opt/ml/input/data/5folds_seed42/fold{i}/annotations/train_fold{i}.json','w') as f:\n",
    "        json.dump(train, f, ensure_ascii=False, indent=4)\n",
    "    with open(f'/opt/ml/input/data/5folds_seed42/fold{i}/annotations/val_fold{i}.json','w') as f:\n",
    "        json.dump(val, f, ensure_ascii=False, indent=4)\n",
    "    \n",
    "    os.remove(f'/opt/ml/input/data/5folds_seed42/train_fold{i}.json')\n",
    "    os.remove(f'/opt/ml/input/data/5folds_seed42/val_fold{i}.json')"
   ]
  },
  {
   "attachments": {},
   "cell_type": "markdown",
   "metadata": {},
   "source": [
    "# mask image 만들기"
   ]
  },
  {
   "cell_type": "code",
   "execution_count": 34,
   "metadata": {},
   "outputs": [
    {
     "data": {
      "text/html": [
       "<div>\n",
       "<style scoped>\n",
       "    .dataframe tbody tr th:only-of-type {\n",
       "        vertical-align: middle;\n",
       "    }\n",
       "\n",
       "    .dataframe tbody tr th {\n",
       "        vertical-align: top;\n",
       "    }\n",
       "\n",
       "    .dataframe thead th {\n",
       "        text-align: right;\n",
       "    }\n",
       "</style>\n",
       "<table border=\"1\" class=\"dataframe\">\n",
       "  <thead>\n",
       "    <tr style=\"text-align: right;\">\n",
       "      <th></th>\n",
       "      <th>name</th>\n",
       "      <th>r</th>\n",
       "      <th>g</th>\n",
       "      <th>b</th>\n",
       "    </tr>\n",
       "  </thead>\n",
       "  <tbody>\n",
       "    <tr>\n",
       "      <th>0</th>\n",
       "      <td>Backgroud</td>\n",
       "      <td>0</td>\n",
       "      <td>0</td>\n",
       "      <td>0</td>\n",
       "    </tr>\n",
       "    <tr>\n",
       "      <th>1</th>\n",
       "      <td>General trash</td>\n",
       "      <td>192</td>\n",
       "      <td>0</td>\n",
       "      <td>128</td>\n",
       "    </tr>\n",
       "    <tr>\n",
       "      <th>2</th>\n",
       "      <td>Paper</td>\n",
       "      <td>0</td>\n",
       "      <td>128</td>\n",
       "      <td>192</td>\n",
       "    </tr>\n",
       "    <tr>\n",
       "      <th>3</th>\n",
       "      <td>Paper pack</td>\n",
       "      <td>0</td>\n",
       "      <td>128</td>\n",
       "      <td>64</td>\n",
       "    </tr>\n",
       "    <tr>\n",
       "      <th>4</th>\n",
       "      <td>Metal</td>\n",
       "      <td>128</td>\n",
       "      <td>0</td>\n",
       "      <td>0</td>\n",
       "    </tr>\n",
       "    <tr>\n",
       "      <th>5</th>\n",
       "      <td>Glass</td>\n",
       "      <td>64</td>\n",
       "      <td>0</td>\n",
       "      <td>128</td>\n",
       "    </tr>\n",
       "    <tr>\n",
       "      <th>6</th>\n",
       "      <td>Plastic</td>\n",
       "      <td>64</td>\n",
       "      <td>0</td>\n",
       "      <td>192</td>\n",
       "    </tr>\n",
       "    <tr>\n",
       "      <th>7</th>\n",
       "      <td>Styrofoam</td>\n",
       "      <td>192</td>\n",
       "      <td>128</td>\n",
       "      <td>64</td>\n",
       "    </tr>\n",
       "    <tr>\n",
       "      <th>8</th>\n",
       "      <td>Plastic bag</td>\n",
       "      <td>192</td>\n",
       "      <td>192</td>\n",
       "      <td>128</td>\n",
       "    </tr>\n",
       "    <tr>\n",
       "      <th>9</th>\n",
       "      <td>Battery</td>\n",
       "      <td>64</td>\n",
       "      <td>64</td>\n",
       "      <td>128</td>\n",
       "    </tr>\n",
       "    <tr>\n",
       "      <th>10</th>\n",
       "      <td>Clothing</td>\n",
       "      <td>128</td>\n",
       "      <td>0</td>\n",
       "      <td>192</td>\n",
       "    </tr>\n",
       "  </tbody>\n",
       "</table>\n",
       "</div>"
      ],
      "text/plain": [
       "             name    r    g    b\n",
       "0       Backgroud    0    0    0\n",
       "1   General trash  192    0  128\n",
       "2           Paper    0  128  192\n",
       "3      Paper pack    0  128   64\n",
       "4           Metal  128    0    0\n",
       "5           Glass   64    0  128\n",
       "6         Plastic   64    0  192\n",
       "7       Styrofoam  192  128   64\n",
       "8     Plastic bag  192  192  128\n",
       "9         Battery   64   64  128\n",
       "10       Clothing  128    0  192"
      ]
     },
     "execution_count": 34,
     "metadata": {},
     "output_type": "execute_result"
    }
   ],
   "source": [
    "class_colormap = pd.read_csv(\"/opt/ml/input/code/class_dict.csv\")\n",
    "class_colormap"
   ]
  },
  {
   "cell_type": "code",
   "execution_count": 35,
   "metadata": {},
   "outputs": [],
   "source": [
    "def create_trash_label_colormap():\n",
    "    \"\"\"Creates a label colormap used in Trash segmentation.\n",
    "    Returns:\n",
    "        A colormap for visualizing segmentation results.\n",
    "    \"\"\"\n",
    "    colormap = np.zeros((11, 3), dtype=np.uint8)\n",
    "    for inex, (_, r, g, b) in enumerate(class_colormap.values):\n",
    "        colormap[inex] = [r, g, b]\n",
    "    \n",
    "    return colormap\n",
    "\n",
    "def label_to_color_image(label):\n",
    "    \"\"\"Adds color defined by the dataset colormap to the label.\n",
    "\n",
    "    Args:\n",
    "        label: A 2D array with integer type, storing the segmentation label.\n",
    "\n",
    "    Returns:\n",
    "        result: A 2D array with floating type. The element of the array\n",
    "                is the color indexed by the corresponding element in the input label\n",
    "                to the trash color map.\n",
    "\n",
    "    Raises:\n",
    "        ValueError: If label is not of rank 2 or its value is larger than color\n",
    "              map maximum entry.\n",
    "    \"\"\"\n",
    "    if label.ndim != 2:\n",
    "        raise ValueError('Expect 2-D input label')\n",
    "\n",
    "    colormap = create_trash_label_colormap()\n",
    "\n",
    "    if np.max(label) >= len(colormap):\n",
    "        raise ValueError('label value too large.')\n",
    "\n",
    "    return colormap[label]"
   ]
  },
  {
   "cell_type": "code",
   "execution_count": 108,
   "metadata": {},
   "outputs": [],
   "source": [
    "fold_index = 4 # 수정 필요\n",
    "dataset_path  = f'/opt/ml/input/data/5folds_seed42/fold{fold_index}/images'\n",
    "anns_file_path = f'/opt/ml/input/data/5folds_seed42/fold{fold_index}/annotations/val_fold{fold_index}.json' # 파일명 수정 필요(train, val)"
   ]
  },
  {
   "cell_type": "code",
   "execution_count": 109,
   "metadata": {},
   "outputs": [
    {
     "name": "stdout",
     "output_type": "stream",
     "text": [
      "Number of super categories: 10\n",
      "Number of categories: 10\n",
      "Number of annotations: 5024\n",
      "Number of images: 655\n"
     ]
    }
   ],
   "source": [
    "%matplotlib inline\n",
    "\n",
    "# Read annotations\n",
    "with open(anns_file_path, 'r') as f:\n",
    "    dataset = json.loads(f.read())\n",
    "\n",
    "categories = dataset['categories']\n",
    "anns = dataset['annotations']\n",
    "imgs = dataset['images']\n",
    "\n",
    "nr_cats = len(categories)\n",
    "nr_annotations = len(anns)\n",
    "nr_images = len(imgs)\n",
    "\n",
    "# Load categories and super categories\n",
    "cat_names = []\n",
    "super_cat_names = []\n",
    "super_cat_ids = {}\n",
    "super_cat_last_name = ''\n",
    "nr_super_cats = 0\n",
    "for cat_it in categories:\n",
    "    cat_names.append(cat_it['name'])\n",
    "    super_cat_name = cat_it['supercategory']\n",
    "    # Adding new supercat\n",
    "    if super_cat_name != super_cat_last_name:\n",
    "        super_cat_names.append(super_cat_name)\n",
    "        super_cat_ids[super_cat_name] = nr_super_cats\n",
    "        super_cat_last_name = super_cat_name\n",
    "        nr_super_cats += 1\n",
    "\n",
    "print('Number of super categories:', nr_super_cats)\n",
    "print('Number of categories:', nr_cats)\n",
    "print('Number of annotations:', nr_annotations)\n",
    "print('Number of images:', nr_images)"
   ]
  },
  {
   "cell_type": "code",
   "execution_count": 110,
   "metadata": {},
   "outputs": [
    {
     "name": "stderr",
     "output_type": "stream",
     "text": [
      "/tmp/ipykernel_5964/2026908457.py:11: FutureWarning: In a future version of pandas all arguments of DataFrame.sort_values except for the argument 'by' will be keyword-only\n",
      "  df = df.sort_values('Number of annotations', 0, False)\n"
     ]
    },
    {
     "data": {
      "image/png": "[encoded data removed]",
      "text/plain": [
       "<Figure size 500x500 with 1 Axes>"
      ]
     },
     "metadata": {},
     "output_type": "display_data"
    }
   ],
   "source": [
    "# Count annotations\n",
    "cat_histogram = np.zeros(nr_cats,dtype=int)\n",
    "for ann in anns:\n",
    "    cat_histogram[ann['category_id']-1] += 1\n",
    "\n",
    "# Initialize the matplotlib figure\n",
    "f, ax = plt.subplots(figsize=(5,5))\n",
    "\n",
    "# Convert to DataFrame\n",
    "df = pd.DataFrame({'Categories': cat_names, 'Number of annotations': cat_histogram})\n",
    "df = df.sort_values('Number of annotations', 0, False)\n",
    "\n",
    "# Plot the histogram\n",
    "plt.title(\"category distribution of train_all set \")\n",
    "plot_1 = sns.barplot(x=\"Number of annotations\", y=\"Categories\", data=df, label=\"Total\", color=\"b\")"
   ]
  },
  {
   "cell_type": "code",
   "execution_count": 111,
   "metadata": {},
   "outputs": [],
   "source": [
    "# category labeling \n",
    "sorted_temp_df = df.sort_index()\n",
    "\n",
    "# background = 0 에 해당되는 label 추가 후 기존들을 모두 label + 1 로 설정\n",
    "sorted_df = pd.DataFrame([\"Backgroud\"], columns = [\"Categories\"])\n",
    "sorted_df = sorted_df.append(sorted_temp_df, ignore_index=True)"
   ]
  },
  {
   "cell_type": "code",
   "execution_count": 112,
   "metadata": {},
   "outputs": [],
   "source": [
    "category_names = list(sorted_df.Categories)"
   ]
  },
  {
   "cell_type": "code",
   "execution_count": 113,
   "metadata": {},
   "outputs": [
    {
     "name": "stdout",
     "output_type": "stream",
     "text": [
      "loading annotations into memory...\n",
      "Done (t=0.89s)\n",
      "creating index...\n",
      "index created!\n"
     ]
    }
   ],
   "source": [
    "coco = COCO(anns_file_path)"
   ]
  },
  {
   "cell_type": "code",
   "execution_count": 114,
   "metadata": {},
   "outputs": [
    {
     "name": "stderr",
     "output_type": "stream",
     "text": [
      "/tmp/ipykernel_5964/2218006110.py:7: FutureWarning: In a future version of pandas all arguments of DataFrame.sort_values except for the argument 'by' will be keyword-only\n",
      "  df = df.sort_values('Number of annotations', 0, False)\n"
     ]
    }
   ],
   "source": [
    "def get_classname(classID, cats):\n",
    "    for i in range(len(cats)):\n",
    "        if cats[i]['id']==classID:\n",
    "            return cats[i]['name']\n",
    "    return \"None\"\n",
    "df = pd.DataFrame({'Categories': cat_names, 'Number of annotations': cat_histogram})\n",
    "df = df.sort_values('Number of annotations', 0, False)\n",
    "sorted_temp_df = df.sort_index()\n",
    "sorted_df = pd.DataFrame([\"Backgroud\"], columns = [\"Categories\"])\n",
    "sorted_df = sorted_df.append(sorted_temp_df, ignore_index=True)\n",
    "category_names = list(sorted_df.Categories)"
   ]
  },
  {
   "cell_type": "code",
   "execution_count": 115,
   "metadata": {},
   "outputs": [],
   "source": [
    "for index in coco.getImgIds():\n",
    "    image_id = coco.getImgIds(imgIds=index)\n",
    "    image_infos = coco.loadImgs(image_id)[0]\n",
    "    # print(image_infos)\n",
    "    images = cv2.imread(os.path.join(dataset_path, image_infos['file_name']))\n",
    "    images = cv2.cvtColor(images, cv2.COLOR_BGR2RGB).astype(np.float32)\n",
    "    images /= 255.0\n",
    "\n",
    "    ann_ids = coco.getAnnIds(imgIds=image_infos['id'])\n",
    "    anns = coco.loadAnns(ann_ids)\n",
    "\n",
    "    # Load the categories in a variable\n",
    "    cat_ids = coco.getCatIds()\n",
    "    cats = coco.loadCats(cat_ids)\n",
    "\n",
    "    # masks : size가 (height x width)인 2D\n",
    "    # 각각의 pixel 값에는 \"category id\" 할당\n",
    "    # Background = 0\n",
    "    masks = np.zeros((image_infos[\"height\"], image_infos[\"width\"]))\n",
    "    # General trash = 1, ... , Cigarette = 10\n",
    "    anns = sorted(anns, key=lambda idx : idx['area'], reverse=True)\n",
    "\n",
    "    for i in range(len(anns)):\n",
    "        className = get_classname(anns[i]['category_id'], cats)\n",
    "        pixel_value = category_names.index(className)\n",
    "        masks[coco.annToMask(anns[i]) == 1] = pixel_value\n",
    "    masks = masks.astype(np.int8)\n",
    "\n",
    "    cv2.imwrite(f'/opt/ml/input/data/5folds_seed42/fold{fold_index}/annotations/' + image_infos['file_name'].split('.')[0] + '.png', masks)"
   ]
  },
  {
   "cell_type": "code",
   "execution_count": null,
   "metadata": {},
   "outputs": [],
   "source": []
  },
  {
   "cell_type": "code",
   "execution_count": null,
   "metadata": {},
   "outputs": [],
   "source": []
  },
  {
   "cell_type": "code",
   "execution_count": null,
   "metadata": {},
   "outputs": [],
   "source": []
  }
 ],
 "metadata": {
  "kernelspec": {
   "display_name": "base",
   "language": "python",
   "name": "python3"
  },
  "language_info": {
   "codemirror_mode": {
    "name": "ipython",
    "version": 3
   },
   "file_extension": ".py",
   "mimetype": "text/x-python",
   "name": "python",
   "nbconvert_exporter": "python",
   "pygments_lexer": "ipython3",
   "version": "3.8.5"
  },
  "orig_nbformat": 4,
  "vscode": {
   "interpreter": {
    "hash": "d4d1e4263499bec80672ea0156c357c1ee493ec2b1c70f0acce89fc37c4a6abe"
   }
  }
 },
 "nbformat": 4,
 "nbformat_minor": 2
}
