{
 "cells": [
  {
   "cell_type": "code",
   "execution_count": 1,
   "id": "00934001-e833-4ce5-8c56-e6945f785ca9",
   "metadata": {},
   "outputs": [],
   "source": [
    "import pandas as pd\n",
    "import numpy as np\n",
    "from tqdm import tqdm"
   ]
  },
  {
   "cell_type": "code",
   "execution_count": 2,
   "id": "310e8846-11fe-4545-918b-2bfec1e2ec57",
   "metadata": {},
   "outputs": [],
   "source": [
    "output_list = [] "
   ]
  },
  {
   "cell_type": "code",
   "execution_count": 3,
   "id": "066997d6-0135-475b-af96-273aecca8e6f",
   "metadata": {},
   "outputs": [],
   "source": [
    "# a = pd.read_csv('./swin_l_zh.csv')"
   ]
  },
  {
   "cell_type": "code",
   "execution_count": 4,
   "id": "7033ff94-957f-41f0-bc93-d572443b8706",
   "metadata": {},
   "outputs": [],
   "source": [
    "out1 = pd.read_csv('./ensemble1/swin_l_zh.csv')\n",
    "out2 = pd.read_csv('./ensemble1/jy.csv')\n",
    "out3 = pd.read_csv('./ensemble1/jh.csv')\n",
    "# out4 = pd.read_csv('./ensemble1/abc.csv') 파일 추가하면 됩니다\n",
    "# out5 = pd.read_csv('./ensemble1/abc.csv')\n"
   ]
  },
  {
   "cell_type": "code",
   "execution_count": null,
   "id": "426da611",
   "metadata": {},
   "outputs": [],
   "source": [
    "out1 = out1.sort_values(by='image_id', axis=0)\n",
    "out2 = out2.sort_values(by='image_id', axis=0)\n",
    "out3 = out3.sort_values(by='image_id', axis=0)\n",
    "# out4 = out4.sort_values(by='image_id', axis=0)\n",
    "# out5 = out5.sort_values(by='image_id', axis=0)\n"
   ]
  },
  {
   "cell_type": "code",
   "execution_count": 5,
   "id": "7f414d66-7093-4532-89bb-28c81f963205",
   "metadata": {},
   "outputs": [
    {
     "data": {
      "text/html": [
       "<div>\n",
       "<style scoped>\n",
       "    .dataframe tbody tr th:only-of-type {\n",
       "        vertical-align: middle;\n",
       "    }\n",
       "\n",
       "    .dataframe tbody tr th {\n",
       "        vertical-align: top;\n",
       "    }\n",
       "\n",
       "    .dataframe thead th {\n",
       "        text-align: right;\n",
       "    }\n",
       "</style>\n",
       "<table border=\"1\" class=\"dataframe\">\n",
       "  <thead>\n",
       "    <tr style=\"text-align: right;\">\n",
       "      <th></th>\n",
       "      <th>image_id</th>\n",
       "      <th>PredictionString</th>\n",
       "    </tr>\n",
       "  </thead>\n",
       "  <tbody>\n",
       "    <tr>\n",
       "      <th>0</th>\n",
       "      <td>batch_01_vt/0008.jpg</td>\n",
       "      <td>NaN</td>\n",
       "    </tr>\n",
       "    <tr>\n",
       "      <th>1</th>\n",
       "      <td>batch_01_vt/0021.jpg</td>\n",
       "      <td>NaN</td>\n",
       "    </tr>\n",
       "    <tr>\n",
       "      <th>2</th>\n",
       "      <td>batch_01_vt/0028.jpg</td>\n",
       "      <td>NaN</td>\n",
       "    </tr>\n",
       "    <tr>\n",
       "      <th>3</th>\n",
       "      <td>batch_01_vt/0031.jpg</td>\n",
       "      <td>NaN</td>\n",
       "    </tr>\n",
       "    <tr>\n",
       "      <th>4</th>\n",
       "      <td>batch_01_vt/0032.jpg</td>\n",
       "      <td>NaN</td>\n",
       "    </tr>\n",
       "    <tr>\n",
       "      <th>...</th>\n",
       "      <td>...</td>\n",
       "      <td>...</td>\n",
       "    </tr>\n",
       "    <tr>\n",
       "      <th>814</th>\n",
       "      <td>batch_03/0968.jpg</td>\n",
       "      <td>NaN</td>\n",
       "    </tr>\n",
       "    <tr>\n",
       "      <th>815</th>\n",
       "      <td>batch_03/0969.jpg</td>\n",
       "      <td>NaN</td>\n",
       "    </tr>\n",
       "    <tr>\n",
       "      <th>816</th>\n",
       "      <td>batch_03/0992.jpg</td>\n",
       "      <td>NaN</td>\n",
       "    </tr>\n",
       "    <tr>\n",
       "      <th>817</th>\n",
       "      <td>batch_03/0998.jpg</td>\n",
       "      <td>NaN</td>\n",
       "    </tr>\n",
       "    <tr>\n",
       "      <th>818</th>\n",
       "      <td>batch_03/0999.jpg</td>\n",
       "      <td>NaN</td>\n",
       "    </tr>\n",
       "  </tbody>\n",
       "</table>\n",
       "<p>819 rows × 2 columns</p>\n",
       "</div>"
      ],
      "text/plain": [
       "                 image_id  PredictionString\n",
       "0    batch_01_vt/0008.jpg               NaN\n",
       "1    batch_01_vt/0021.jpg               NaN\n",
       "2    batch_01_vt/0028.jpg               NaN\n",
       "3    batch_01_vt/0031.jpg               NaN\n",
       "4    batch_01_vt/0032.jpg               NaN\n",
       "..                    ...               ...\n",
       "814     batch_03/0968.jpg               NaN\n",
       "815     batch_03/0969.jpg               NaN\n",
       "816     batch_03/0992.jpg               NaN\n",
       "817     batch_03/0998.jpg               NaN\n",
       "818     batch_03/0999.jpg               NaN\n",
       "\n",
       "[819 rows x 2 columns]"
      ]
     },
     "execution_count": 5,
     "metadata": {},
     "output_type": "execute_result"
    }
   ],
   "source": [
    "submission = pd.DataFrame()\n",
    "submission['image_id'] = out1['image_id']\n",
    "submission['PredictionString'] = np.NaN\n",
    "submission"
   ]
  },
  {
   "cell_type": "code",
   "execution_count": 6,
   "id": "0d9d6647-94dd-4437-ad86-9ef0fd92cd99",
   "metadata": {},
   "outputs": [
    {
     "name": "stderr",
     "output_type": "stream",
     "text": [
      "  0%|          | 0/819 [00:00<?, ?it/s]/tmp/ipykernel_14000/2034760966.py:18: SettingWithCopyWarning: \n",
      "A value is trying to be set on a copy of a slice from a DataFrame\n",
      "\n",
      "See the caveats in the documentation: https://pandas.pydata.org/pandas-docs/stable/user_guide/indexing.html#returning-a-view-versus-a-copy\n",
      "  submission['PredictionString'][i] = ' '.join(str(z) for z in prediction)\n",
      "/opt/conda/lib/python3.8/site-packages/pandas/core/indexing.py:1732: SettingWithCopyWarning: \n",
      "A value is trying to be set on a copy of a slice from a DataFrame\n",
      "\n",
      "See the caveats in the documentation: https://pandas.pydata.org/pandas-docs/stable/user_guide/indexing.html#returning-a-view-versus-a-copy\n",
      "  self._setitem_single_block(indexer, value, name)\n",
      "100%|██████████| 819/819 [01:41<00:00,  8.10it/s]\n"
     ]
    },
    {
     "data": {
      "text/html": [
       "<div>\n",
       "<style scoped>\n",
       "    .dataframe tbody tr th:only-of-type {\n",
       "        vertical-align: middle;\n",
       "    }\n",
       "\n",
       "    .dataframe tbody tr th {\n",
       "        vertical-align: top;\n",
       "    }\n",
       "\n",
       "    .dataframe thead th {\n",
       "        text-align: right;\n",
       "    }\n",
       "</style>\n",
       "<table border=\"1\" class=\"dataframe\">\n",
       "  <thead>\n",
       "    <tr style=\"text-align: right;\">\n",
       "      <th></th>\n",
       "      <th>image_id</th>\n",
       "      <th>PredictionString</th>\n",
       "    </tr>\n",
       "  </thead>\n",
       "  <tbody>\n",
       "    <tr>\n",
       "      <th>0</th>\n",
       "      <td>batch_01_vt/0008.jpg</td>\n",
       "      <td>0 0 0 0 0 0 0 0 0 0 0 0 0 0 0 0 0 0 0 0 0 0 0 ...</td>\n",
       "    </tr>\n",
       "    <tr>\n",
       "      <th>1</th>\n",
       "      <td>batch_01_vt/0021.jpg</td>\n",
       "      <td>0 0 0 0 0 0 0 0 0 0 0 0 0 0 0 0 0 0 0 0 0 0 0 ...</td>\n",
       "    </tr>\n",
       "    <tr>\n",
       "      <th>2</th>\n",
       "      <td>batch_01_vt/0028.jpg</td>\n",
       "      <td>0 0 0 0 0 0 0 0 0 0 0 0 0 0 0 0 0 0 0 0 0 0 0 ...</td>\n",
       "    </tr>\n",
       "    <tr>\n",
       "      <th>3</th>\n",
       "      <td>batch_01_vt/0031.jpg</td>\n",
       "      <td>0 0 0 0 0 0 0 0 0 0 0 0 0 0 0 0 0 0 0 0 0 0 0 ...</td>\n",
       "    </tr>\n",
       "    <tr>\n",
       "      <th>4</th>\n",
       "      <td>batch_01_vt/0032.jpg</td>\n",
       "      <td>0 0 0 0 0 0 0 0 0 0 0 0 0 0 0 0 0 0 0 0 0 0 0 ...</td>\n",
       "    </tr>\n",
       "  </tbody>\n",
       "</table>\n",
       "</div>"
      ],
      "text/plain": [
       "               image_id                                   PredictionString\n",
       "0  batch_01_vt/0008.jpg  0 0 0 0 0 0 0 0 0 0 0 0 0 0 0 0 0 0 0 0 0 0 0 ...\n",
       "1  batch_01_vt/0021.jpg  0 0 0 0 0 0 0 0 0 0 0 0 0 0 0 0 0 0 0 0 0 0 0 ...\n",
       "2  batch_01_vt/0028.jpg  0 0 0 0 0 0 0 0 0 0 0 0 0 0 0 0 0 0 0 0 0 0 0 ...\n",
       "3  batch_01_vt/0031.jpg  0 0 0 0 0 0 0 0 0 0 0 0 0 0 0 0 0 0 0 0 0 0 0 ...\n",
       "4  batch_01_vt/0032.jpg  0 0 0 0 0 0 0 0 0 0 0 0 0 0 0 0 0 0 0 0 0 0 0 ..."
      ]
     },
     "execution_count": 6,
     "metadata": {},
     "output_type": "execute_result"
    }
   ],
   "source": [
    "res = 0\n",
    "for i in tqdm(range(len(out1))):\n",
    "    out1_pred = out1['PredictionString'][i].split()\n",
    "    out2_pred = out2['PredictionString'][i].split()\n",
    "    out3_pred = out3['PredictionString'][i].split()\n",
    "    # out4_pred = out4['PredictionString'][i].split() 추가하시면 됩니다\n",
    "    # out5_pred = out5['PredictionString'][i].split() \n",
    "    prediction = [] \n",
    "    for j in range(len(out1_pred)):\n",
    "        count = []\n",
    "        count.append(out1_pred[j])\n",
    "        count.append(out2_pred[j])\n",
    "        count.append(out3_pred[j])\n",
    "        # count.append(out4_pred[j]) 추가하시면 됩니다\n",
    "        # count.append(out5_pred[j])\n",
    "        cnt = []\n",
    "        for k in range(3):\n",
    "            cnt.append(count.count(count[k]))\n",
    "        prediction.append(count[cnt.index(max(cnt))])\n",
    "    submission['PredictionString'][i] = ' '.join(str(z) for z in prediction)\n",
    "    \n",
    "\n",
    "submission.head()\n"
   ]
  },
  {
   "cell_type": "code",
   "execution_count": 7,
   "id": "bcd990f4-e8a5-4024-aaea-4e06578dbdd7",
   "metadata": {},
   "outputs": [],
   "source": [
    "submission.to_csv('./ensemble1/e_out.csv', index = False)"
   ]
  },
  {
   "cell_type": "code",
   "execution_count": null,
   "id": "cdc1f220-7849-4f94-ac9d-0c6d67955905",
   "metadata": {},
   "outputs": [],
   "source": []
  }
 ],
 "metadata": {
  "kernelspec": {
   "display_name": "Python 3 (ipykernel)",
   "language": "python",
   "name": "python3"
  },
  "language_info": {
   "codemirror_mode": {
    "name": "ipython",
    "version": 3
   },
   "file_extension": ".py",
   "mimetype": "text/x-python",
   "name": "python",
   "nbconvert_exporter": "python",
   "pygments_lexer": "ipython3",
   "version": "3.8.5"
  }
 },
 "nbformat": 4,
 "nbformat_minor": 5
}
